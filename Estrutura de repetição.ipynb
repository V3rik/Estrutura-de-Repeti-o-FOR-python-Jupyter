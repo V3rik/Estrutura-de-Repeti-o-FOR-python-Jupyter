{
 "cells": [
  {
   "cell_type": "markdown",
   "id": "cf4b0cdc",
   "metadata": {},
   "source": [
    "# Estrutura de repetição: FOR\n",
    "\n",
    "Funcionamento:"
   ]
  },
  {
   "cell_type": "code",
   "execution_count": null,
   "id": "ba6b881d",
   "metadata": {},
   "outputs": [],
   "source": [
    "for is range(n):\n",
    "    repetir código n vezes"
   ]
  },
  {
   "cell_type": "markdown",
   "id": "cb4918e0",
   "metadata": {},
   "source": [
    "Imagine que estamos construindo uma automação para enviar todo dia por email um resumo da produção de uma fabrica, construa um código que exiba a quantidade produzida de cada um dos produtos."
   ]
  },
  {
   "cell_type": "code",
   "execution_count": 19,
   "id": "241e7617",
   "metadata": {},
   "outputs": [
    {
     "name": "stdout",
     "output_type": "stream",
     "text": [
      "Guina\n",
      "Guina\n",
      "Guina\n",
      "Guina\n",
      "Guina\n"
     ]
    }
   ],
   "source": [
    "for i in range(5):\n",
    "    print(\"Guina\")\n",
    "    \n",
    "# note que I seria a contagem. "
   ]
  },
  {
   "cell_type": "code",
   "execution_count": 21,
   "id": "3bd3ff1f",
   "metadata": {},
   "outputs": [
    {
     "name": "stdout",
     "output_type": "stream",
     "text": [
      "0\n",
      "1\n",
      "2\n",
      "3\n",
      "4\n"
     ]
    }
   ],
   "source": [
    "# se pedimos para printar o (i) 5 vezes ela irá contar do index 0 até o index 4.\n",
    "for i in range(5):\n",
    "    print(i)"
   ]
  },
  {
   "cell_type": "code",
   "execution_count": 36,
   "id": "0fe86c7e",
   "metadata": {},
   "outputs": [
    {
     "name": "stdout",
     "output_type": "stream",
     "text": [
      "coca unidades produzidas de15000\n",
      "pepsi unidades produzidas de12000\n",
      "guarana unidades produzidas de13000\n",
      "sprite unidades produzidas de5000\n",
      "fanta unidades produzidas de250\n"
     ]
    }
   ],
   "source": [
    "# fazendo a contagem de produção método 1.\n",
    "\n",
    "produtos = [\"coca\", \"pepsi\", \"guarana\", \"sprite\", \"fanta\"]\n",
    "produção = [15000, 12000, 13000, 5000, 250]\n",
    "\n",
    "for i in range(5):\n",
    "    print(\"{} unidades produzidas de{}\".format(produtos[i], produção[i]))\n",
    "\n",
    "    "
   ]
  },
  {
   "cell_type": "code",
   "execution_count": 38,
   "id": "e151e3f4",
   "metadata": {},
   "outputs": [
    {
     "name": "stdout",
     "output_type": "stream",
     "text": [
      "15000 unidades produzidas de  coca\n",
      "12000 unidades produzidas de  pepsi\n",
      "13000 unidades produzidas de  guarana\n",
      "5000 unidades produzidas de  sprite\n",
      "250 unidades produzidas de  fanta\n"
     ]
    }
   ],
   "source": [
    "# fazendo a contagem de produção método 2.\n",
    "\n",
    "produtos = [\"coca\", \"pepsi\", \"guarana\", \"sprite\", \"fanta\"]\n",
    "produção = [15000, 12000, 13000, 5000, 250]\n",
    "\n",
    "for i in range(5):\n",
    "    print(produção[i],\"unidades produzidas de \", produtos[i])"
   ]
  },
  {
   "cell_type": "markdown",
   "id": "659014d5",
   "metadata": {},
   "source": [
    "# FOR \"EACH\"\n",
    "\n",
    "Estrutura:\n",
    "\n",
    "O for no Python consegue percorer uma lista e a cada \"loop\" retorna o valor do item."
   ]
  },
  {
   "cell_type": "code",
   "execution_count": 41,
   "id": "a20452f3",
   "metadata": {},
   "outputs": [
    {
     "name": "stdout",
     "output_type": "stream",
     "text": [
      "0\n",
      "1\n",
      "2\n",
      "3\n",
      "4\n"
     ]
    }
   ],
   "source": [
    "for i in range(5):\n",
    "    print (i)\n",
    "    \n",
    "# range (5) é na verdade uma lista do tipo: [0, 1, 2, 3, 4]"
   ]
  },
  {
   "cell_type": "code",
   "execution_count": 44,
   "id": "056f7195",
   "metadata": {},
   "outputs": [
    {
     "name": "stdout",
     "output_type": "stream",
     "text": [
      "coca\n",
      "pepsi\n",
      "guarana\n",
      "sprite\n",
      "fanta\n"
     ]
    }
   ],
   "source": [
    "# primeira forma de se contar a lista:\n",
    "\n",
    "produtos = [\"coca\", \"pepsi\", \"guarana\", \"sprite\", \"fanta\"]\n",
    "texto = \"email-exemplo#gmail.com\"\n",
    "\n",
    "\n",
    "for i in range(5):\n",
    "    print(produtos[i])"
   ]
  },
  {
   "cell_type": "code",
   "execution_count": 51,
   "id": "c8c0d505",
   "metadata": {},
   "outputs": [
    {
     "name": "stdout",
     "output_type": "stream",
     "text": [
      "coca\n",
      "pepsi\n",
      "guarana\n",
      "sprite\n",
      "fanta\n"
     ]
    }
   ],
   "source": [
    "#segunda forma de exibir a lista.\n",
    "\n",
    "produtos = [\"coca\", \"pepsi\", \"guarana\", \"sprite\", \"fanta\"]\n",
    "texto = \"email-exemplo#gmail.com\"\n",
    "\n",
    "\n",
    "for produtos in produtos:\n",
    "    print(produtos)"
   ]
  },
  {
   "cell_type": "markdown",
   "id": "7b554cb3",
   "metadata": {},
   "source": [
    "# FOR e IF\n",
    "\n",
    "Estrutura:"
   ]
  },
  {
   "cell_type": "code",
   "execution_count": 54,
   "id": "695f1d00",
   "metadata": {},
   "outputs": [
    {
     "ename": "SyntaxError",
     "evalue": "invalid syntax (1412748472.py, line 3)",
     "output_type": "error",
     "traceback": [
      "\u001b[1;36m  Input \u001b[1;32mIn [54]\u001b[1;36m\u001b[0m\n\u001b[1;33m    faça alguma coisa\u001b[0m\n\u001b[1;37m         ^\u001b[0m\n\u001b[1;31mSyntaxError\u001b[0m\u001b[1;31m:\u001b[0m invalid syntax\n"
     ]
    }
   ],
   "source": [
    "for item in lista:\n",
    "    if condição:\n",
    "        faça alguma coisa\n",
    "    else:\n",
    "        faça outra coisa"
   ]
  },
  {
   "cell_type": "markdown",
   "id": "f96f4459",
   "metadata": {},
   "source": [
    "Digamos que a gente esteja analisando a meta de vendas de vários funcionários de uma empresa. A meta de vendas é de 1000 reais em 1 dia. Temos uma lista com as vendas de todos os funcionários e quero calcular a % de pessoa que bateram a meta.\n"
   ]
  },
  {
   "cell_type": "code",
   "execution_count": 62,
   "id": "d9a97a2b",
   "metadata": {},
   "outputs": [
    {
     "name": "stdout",
     "output_type": "stream",
     "text": [
      "1200 menta atingida\n",
      "300 meta não atingida\n",
      "800 meta não atingida\n",
      "1500 menta atingida\n",
      "1900 menta atingida\n",
      "2750 menta atingida\n",
      "400 meta não atingida\n",
      "20 meta não atingida\n",
      "23 meta não atingida\n",
      "70 meta não atingida\n",
      "90 meta não atingida\n",
      "80 meta não atingida\n",
      "1100 menta atingida\n",
      "900 meta não atingida\n",
      "880 meta não atingida\n",
      "870 meta não atingida\n",
      "50 meta não atingida\n",
      "1111 menta atingida\n",
      "120 meta não atingida\n",
      "300 meta não atingida\n",
      "450 meta não atingida\n",
      "800 meta não atingida\n"
     ]
    }
   ],
   "source": [
    "vendas = [1200, 300, 800, 1500, 1900, 2750, 400, 20, 23,70, 90, 80, 1100, 900, 880, 870, 50, 1111, 120, 300, 450, 800]\n",
    "meta = 1000\n",
    "\n",
    "for vendas in vendas:\n",
    "    if vendas >= meta:\n",
    "        print (vendas,\"menta atingida\")\n",
    "    else:\n",
    "        print(vendas,\"meta não atingida\")\n",
    "\n",
    "# Note que nesse exemplos não utilizamos [ i ] porém funciona da mesma forma.    \n"
   ]
  },
  {
   "cell_type": "markdown",
   "id": "97cb3fc7",
   "metadata": {},
   "source": [
    "# Enumerate\n",
    "\n",
    "Estrutura:\n",
    "    \n",
    "O enumerate permite que você percorra uma lista e ao mesmo tempo tenha em uma variavel o indice daquele item.\n",
    "\n",
    "for normalmente"
   ]
  },
  {
   "cell_type": "code",
   "execution_count": 63,
   "id": "d059e8ea",
   "metadata": {},
   "outputs": [
    {
     "ename": "SyntaxError",
     "evalue": "invalid syntax (4091350505.py, line 2)",
     "output_type": "error",
     "traceback": [
      "\u001b[1;36m  Input \u001b[1;32mIn [63]\u001b[1;36m\u001b[0m\n\u001b[1;33m    resto do código\u001b[0m\n\u001b[1;37m          ^\u001b[0m\n\u001b[1;31mSyntaxError\u001b[0m\u001b[1;31m:\u001b[0m invalid syntax\n"
     ]
    }
   ],
   "source": [
    "for item in lista:\n",
    "    resto do código"
   ]
  },
  {
   "cell_type": "code",
   "execution_count": 66,
   "id": "ae18cf6d",
   "metadata": {},
   "outputs": [
    {
     "name": "stdout",
     "output_type": "stream",
     "text": [
      "maria\n",
      "josé\n",
      "antônio\n",
      "João\n",
      "francisco\n"
     ]
    }
   ],
   "source": [
    "funcionarios = [\"maria\", \"josé\", \"antônio\", \"João\", \"francisco\"]\n",
    "\n",
    "#para apresentar funcionários dentro de uma lista,\n",
    "for funcionarios in funcionarios:\n",
    "    print(funcionarios)"
   ]
  }
 ],
 "metadata": {
  "kernelspec": {
   "display_name": "Python 3 (ipykernel)",
   "language": "python",
   "name": "python3"
  },
  "language_info": {
   "codemirror_mode": {
    "name": "ipython",
    "version": 3
   },
   "file_extension": ".py",
   "mimetype": "text/x-python",
   "name": "python",
   "nbconvert_exporter": "python",
   "pygments_lexer": "ipython3",
   "version": "3.9.12"
  }
 },
 "nbformat": 4,
 "nbformat_minor": 5
}
